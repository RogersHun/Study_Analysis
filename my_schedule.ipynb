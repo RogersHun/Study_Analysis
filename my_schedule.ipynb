{
 "cells": [
  {
   "attachments": {},
   "cell_type": "markdown",
   "metadata": {},
   "source": [
    "> ## New Schedule Project\n",
    "\n",
    "- ### function\n",
    "1. 하루 일과에 대한 스케줄을 짤 수 있다. 이에 대해 각 내용들을 입력 (구체화 필요)\n",
    "2. 시각화를 활용해서 지금까지의 내용들/ 목표 달성율을 보여준다. (시계열, 군집화 등 구체화 필요)\n",
    "3. 딥러닝을 활용해서 앞으로의 공부 패턴/ 목표 달성율 예측값을 예측해 줌 / 이에 대한 피드백 제공 (구체화 필요)\n",
    "4. 큰 달력에 몇일부터 몇일 그림으로 가능한 달력 스케줄링 기능 제공\n",
    "5. Timer 나 stopwatch 기능 제공, 가능하면 방해금지 모드 제공 / if 방해금지 모드면 chatgpt 만 사용가능하게 해도 될듯 아니면 사전만 가능하게\n",
    "6. 알람으로 공부할 시간이나 스케줄링 하라고 알림 msg 제공"
   ]
  },
  {
   "cell_type": "code",
   "execution_count": 1,
   "metadata": {},
   "outputs": [],
   "source": [
    "import pandas as pd"
   ]
  },
  {
   "cell_type": "code",
   "execution_count": 7,
   "metadata": {},
   "outputs": [],
   "source": [
    "col_name = {'날짜':[],'공부 시간':[], '공부할 내용': [], '완료(완료 갯수/공부할 내용)':[], 'FeedBack':[]}\n",
    "col_name1 = pd.DataFrame(col_name)"
   ]
  },
  {
   "cell_type": "code",
   "execution_count": 8,
   "metadata": {},
   "outputs": [
    {
     "data": {
      "text/html": [
       "<div>\n",
       "<style scoped>\n",
       "    .dataframe tbody tr th:only-of-type {\n",
       "        vertical-align: middle;\n",
       "    }\n",
       "\n",
       "    .dataframe tbody tr th {\n",
       "        vertical-align: top;\n",
       "    }\n",
       "\n",
       "    .dataframe thead th {\n",
       "        text-align: right;\n",
       "    }\n",
       "</style>\n",
       "<table border=\"1\" class=\"dataframe\">\n",
       "  <thead>\n",
       "    <tr style=\"text-align: right;\">\n",
       "      <th></th>\n",
       "      <th>날짜</th>\n",
       "      <th>공부 시간</th>\n",
       "      <th>공부할 내용</th>\n",
       "      <th>완료(완료 갯수/공부할 내용)</th>\n",
       "      <th>FeedBack</th>\n",
       "    </tr>\n",
       "  </thead>\n",
       "  <tbody>\n",
       "  </tbody>\n",
       "</table>\n",
       "</div>"
      ],
      "text/plain": [
       "Empty DataFrame\n",
       "Columns: [날짜, 공부 시간, 공부할 내용, 완료(완료 갯수/공부할 내용), FeedBack]\n",
       "Index: []"
      ]
     },
     "execution_count": 8,
     "metadata": {},
     "output_type": "execute_result"
    }
   ],
   "source": [
    "col_name1"
   ]
  },
  {
   "cell_type": "code",
   "execution_count": null,
   "metadata": {},
   "outputs": [],
   "source": [
    "def study_data (date, study_time, content, complete, feedback):\n",
    "    data_input1 = input('날짜를 입력하세요. (YY/MM/DD)')\n",
    "    data_input2 = input('총 공부 시간을 입력하세요. (ex. 10H 30M))')\n",
    "    data_input3 = input('공부할 내용을 입력하세요.')\n",
    "    data_input4 = input('완료한 갯수를 입력하세요. (ex. 3/6)')\n",
    "    data_input5 = input('피드백을 입력하세요.')\n",
    "    col_name1 = colname1.append(data_input1)"
   ]
  }
 ],
 "metadata": {
  "kernelspec": {
   "display_name": "Rogers_AI",
   "language": "python",
   "name": "python3"
  },
  "language_info": {
   "codemirror_mode": {
    "name": "ipython",
    "version": 3
   },
   "file_extension": ".py",
   "mimetype": "text/x-python",
   "name": "python",
   "nbconvert_exporter": "python",
   "pygments_lexer": "ipython3",
   "version": "3.9.16"
  },
  "orig_nbformat": 4
 },
 "nbformat": 4,
 "nbformat_minor": 2
}
